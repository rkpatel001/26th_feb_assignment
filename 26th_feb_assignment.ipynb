{
 "cells": [
  {
   "cell_type": "code",
   "execution_count": null,
   "id": "915548a6-8439-4b42-ae64-79b976a02ca7",
   "metadata": {},
   "outputs": [],
   "source": [
    "import numpy as np\n",
    "list_ = [ ‘1’ , ’2’ , ‘3’ , ‘4’ , ‘5’ ]\n",
    "array_list = np.array(object = list_)"
   ]
  },
  {
   "cell_type": "code",
   "execution_count": 4,
   "id": "3913b362-f27d-4054-807a-3c7dc7e12d9f",
   "metadata": {},
   "outputs": [],
   "source": [
    "#Q1. Is there any difference in the data type of variables list_ and array_list? If there is then write a code\n",
    "#to print the data types of both the variables."
   ]
  },
  {
   "cell_type": "code",
   "execution_count": 5,
   "id": "3c4fce5e-1fa1-41a7-8a84-e59c6140660f",
   "metadata": {},
   "outputs": [],
   "source": [
    "# yes there is list_ is a list of strigs and array_list is a array of list_ \n",
    "\n",
    "# code for data type"
   ]
  },
  {
   "cell_type": "code",
   "execution_count": 21,
   "id": "00847cb4-b8fe-4956-b310-a94244cb2ded",
   "metadata": {},
   "outputs": [],
   "source": [
    "import numpy as np\n",
    "list_ = ['1', '2', '3', '4', '5']\n",
    "array_list = np.array(list_)"
   ]
  },
  {
   "cell_type": "code",
   "execution_count": 22,
   "id": "0c6e6b0c-5354-406c-8419-3a2062c14a04",
   "metadata": {},
   "outputs": [
    {
     "name": "stdout",
     "output_type": "stream",
     "text": [
      "Data type of list_ :  <class 'str'>\n",
      "Data type of array_list <U1\n"
     ]
    }
   ],
   "source": [
    "print(\"Data type of list_ : \", type(list_[0]))\n",
    "print(\"Data type of array_list\" , array_list.dtype)"
   ]
  },
  {
   "cell_type": "code",
   "execution_count": null,
   "id": "16dc4390-4a4c-4836-9421-81075f4d757d",
   "metadata": {},
   "outputs": [],
   "source": []
  },
  {
   "cell_type": "code",
   "execution_count": null,
   "id": "12d9c56c-eaff-409a-964d-0fa274e72f2a",
   "metadata": {},
   "outputs": [],
   "source": []
  },
  {
   "cell_type": "code",
   "execution_count": 23,
   "id": "6c667ba6-5fed-410c-8c5d-0d5622707819",
   "metadata": {},
   "outputs": [],
   "source": [
    "#Q2. Write a code to print the data type of each and every element of both the variables list_ and\n",
    "#arra_list."
   ]
  },
  {
   "cell_type": "code",
   "execution_count": 24,
   "id": "ea91b166-bb53-466e-a23e-395043acdb5c",
   "metadata": {},
   "outputs": [
    {
     "name": "stdout",
     "output_type": "stream",
     "text": [
      "Data type of list_ <class 'str'>\n",
      "Data type of array_list <U1\n"
     ]
    }
   ],
   "source": [
    "print(\"Data type of list_\" , type(list_[0]))\n",
    "print(\"Data type of array_list\" , array_list.dtype)"
   ]
  },
  {
   "cell_type": "code",
   "execution_count": null,
   "id": "1fa4bcf9-04da-4058-8efc-169c35cb5477",
   "metadata": {},
   "outputs": [],
   "source": []
  },
  {
   "cell_type": "code",
   "execution_count": null,
   "id": "71ff6082-1f29-4e5d-9ab2-8dd0c96e4c62",
   "metadata": {},
   "outputs": [],
   "source": []
  },
  {
   "cell_type": "code",
   "execution_count": null,
   "id": "3d4bf99e-4944-46ba-8bf9-8c3704e76d31",
   "metadata": {},
   "outputs": [],
   "source": [
    "\n",
    "    #Q3. Considering the following changes in the variable, array_list:\n",
    "\n",
    "\n",
    "    array_list = np.array(object = list_, dtype = int)\n",
    "    \n",
    "    Will there be any difference in the data type of the elements present in both the variables, list_ and\n",
    "    arra_list? If so then print the data types of each and every element present in both the variables, list_\n",
    "    and arra_list."
   ]
  },
  {
   "cell_type": "code",
   "execution_count": 28,
   "id": "b97fe004-17e7-4b75-b517-7c9f2c2db9aa",
   "metadata": {},
   "outputs": [
    {
     "data": {
      "text/plain": [
       "array(['1', '2', '3', '4', '5'], dtype='<U1')"
      ]
     },
     "execution_count": 28,
     "metadata": {},
     "output_type": "execute_result"
    }
   ],
   "source": [
    "array_list"
   ]
  },
  {
   "cell_type": "code",
   "execution_count": 29,
   "id": "f8b417f7-643e-4195-b188-11aead7de80e",
   "metadata": {},
   "outputs": [
    {
     "name": "stdout",
     "output_type": "stream",
     "text": [
      "Data type of array_list <class 'numpy.str_'>\n"
     ]
    }
   ],
   "source": [
    "print(\"Data type of array_list\" , type(array_list[0]))"
   ]
  },
  {
   "cell_type": "code",
   "execution_count": 30,
   "id": "5d46fbf4-2263-47d6-a3dd-f4dc14063f28",
   "metadata": {},
   "outputs": [
    {
     "name": "stdout",
     "output_type": "stream",
     "text": [
      "Each elemnt dtype <class 'numpy.str_'>\n",
      "Each elemnt dtype <class 'numpy.str_'>\n",
      "Each elemnt dtype <class 'numpy.str_'>\n",
      "Each elemnt dtype <class 'numpy.str_'>\n",
      "Each elemnt dtype <class 'numpy.str_'>\n"
     ]
    }
   ],
   "source": [
    "for i in array_list:\n",
    "    print(\"Each elemnt dtype\",type(i)) "
   ]
  },
  {
   "cell_type": "code",
   "execution_count": null,
   "id": "fc8172d8-4240-43b9-bf27-6957a6e15b4f",
   "metadata": {},
   "outputs": [],
   "source": []
  },
  {
   "cell_type": "code",
   "execution_count": 31,
   "id": "9a27f2c6-6f7d-478e-a86a-2afa7c61d81f",
   "metadata": {},
   "outputs": [],
   "source": [
    "import numpy as np\n",
    "\n",
    "num_list = [ [ 1 , 2 , 3 ] , [ 4 , 5 , 6 ] ]\n",
    "\n",
    "num_array = np.array(object = num_list)\n",
    "\n",
    "\n",
    "#Q4. Write a code to find the following characteristics of variable, num_array:\n",
    "#(i) shape\n",
    "#(ii) size"
   ]
  },
  {
   "cell_type": "code",
   "execution_count": null,
   "id": "71acbc03-7305-4ca3-baad-6e1cd80a72b2",
   "metadata": {},
   "outputs": [],
   "source": []
  },
  {
   "cell_type": "code",
   "execution_count": 32,
   "id": "2af7aa8f-4777-4e91-ab71-e66b3b5a8ffb",
   "metadata": {},
   "outputs": [
    {
     "data": {
      "text/plain": [
       "array([[1, 2, 3],\n",
       "       [4, 5, 6]])"
      ]
     },
     "execution_count": 32,
     "metadata": {},
     "output_type": "execute_result"
    }
   ],
   "source": [
    "num_array"
   ]
  },
  {
   "cell_type": "code",
   "execution_count": 33,
   "id": "e55ee8c8-0134-442c-88d0-e3b693b8eced",
   "metadata": {},
   "outputs": [
    {
     "data": {
      "text/plain": [
       "(2, 3)"
      ]
     },
     "execution_count": 33,
     "metadata": {},
     "output_type": "execute_result"
    }
   ],
   "source": [
    "np.shape(num_array)"
   ]
  },
  {
   "cell_type": "code",
   "execution_count": 34,
   "id": "281dcf7a-257b-4004-882e-7c57778df491",
   "metadata": {},
   "outputs": [
    {
     "data": {
      "text/plain": [
       "6"
      ]
     },
     "execution_count": 34,
     "metadata": {},
     "output_type": "execute_result"
    }
   ],
   "source": [
    "np.size(num_array)"
   ]
  },
  {
   "cell_type": "code",
   "execution_count": null,
   "id": "d036cec0-43de-4efe-b72d-dba93f2b4e85",
   "metadata": {},
   "outputs": [],
   "source": []
  },
  {
   "cell_type": "code",
   "execution_count": null,
   "id": "1f69021f-29ee-4e80-a0ea-30509c1cb7f6",
   "metadata": {},
   "outputs": [],
   "source": []
  },
  {
   "cell_type": "code",
   "execution_count": 35,
   "id": "eda5f4ee-88c1-4d0a-90a0-847ed28ef30c",
   "metadata": {},
   "outputs": [],
   "source": [
    "#Q5. Write a code to create numpy array of 3*3 matrix containing zeros only, using a numpy array\n",
    "#creation function.\n",
    "#[Hint: The size of the array will be 9 and the shape will be (3,3).]#"
   ]
  },
  {
   "cell_type": "code",
   "execution_count": null,
   "id": "d7e3cebc-5b74-4cb0-97fa-f158d17de260",
   "metadata": {},
   "outputs": [],
   "source": []
  },
  {
   "cell_type": "code",
   "execution_count": 47,
   "id": "71fa91b9-7ab5-48ca-b1ff-7e3b09e6c7d3",
   "metadata": {},
   "outputs": [],
   "source": [
    "arr = np.zeros((3,3))"
   ]
  },
  {
   "cell_type": "code",
   "execution_count": 48,
   "id": "3ef4ebec-f10c-46d0-8e58-7cdae7498087",
   "metadata": {},
   "outputs": [
    {
     "data": {
      "text/plain": [
       "array([[0., 0., 0.],\n",
       "       [0., 0., 0.],\n",
       "       [0., 0., 0.]])"
      ]
     },
     "execution_count": 48,
     "metadata": {},
     "output_type": "execute_result"
    }
   ],
   "source": [
    "arr"
   ]
  },
  {
   "cell_type": "code",
   "execution_count": null,
   "id": "5b6132a4-068b-497e-ace9-e1c3df8081ff",
   "metadata": {},
   "outputs": [],
   "source": []
  },
  {
   "cell_type": "code",
   "execution_count": null,
   "id": "7834844f-6c47-49a0-893c-7ac46c8f0602",
   "metadata": {},
   "outputs": [],
   "source": [
    "Q6. Create an identity matrix of shape (5,5) using numpy functions?\n",
    "[Hint: An identity matrix is a matrix containing 1 diagonally and other elements will be 0.]"
   ]
  },
  {
   "cell_type": "code",
   "execution_count": null,
   "id": "d7aa29cf-5b5f-4928-94d8-6d29e8904151",
   "metadata": {},
   "outputs": [],
   "source": []
  },
  {
   "cell_type": "code",
   "execution_count": null,
   "id": "e5991471-53ed-4706-9fbb-4ff464529174",
   "metadata": {},
   "outputs": [],
   "source": []
  },
  {
   "cell_type": "code",
   "execution_count": null,
   "id": "a8714b03-547d-4366-b72d-dd1d0c958336",
   "metadata": {},
   "outputs": [],
   "source": []
  }
 ],
 "metadata": {
  "kernelspec": {
   "display_name": "Python 3 (ipykernel)",
   "language": "python",
   "name": "python3"
  },
  "language_info": {
   "codemirror_mode": {
    "name": "ipython",
    "version": 3
   },
   "file_extension": ".py",
   "mimetype": "text/x-python",
   "name": "python",
   "nbconvert_exporter": "python",
   "pygments_lexer": "ipython3",
   "version": "3.10.8"
  }
 },
 "nbformat": 4,
 "nbformat_minor": 5
}
